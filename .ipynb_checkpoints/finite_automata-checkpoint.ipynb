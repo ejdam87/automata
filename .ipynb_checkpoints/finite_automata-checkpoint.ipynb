{
 "cells": [
  {
   "cell_type": "code",
   "execution_count": 3,
   "id": "13a2021c-145b-4a46-bb5a-fe051a79b3b4",
   "metadata": {},
   "outputs": [
    {
     "name": "stdout",
     "output_type": "stream",
     "text": [
      "c\n",
      "b\n",
      "a\n",
      "cc\n",
      "cb\n",
      "ca\n",
      "bc\n",
      "bb\n",
      "ba\n",
      "ac\n",
      "ab\n",
      "aa\n",
      "ccc\n",
      "{'abc', 'b', 'a'}\n",
      "{'aa', 'bb', 'aabc', 'b', 'abcb', 'babc', 'a', 'ab', 'abcabc', 'ba', 'abca', 'abc'}\n",
      "{'babca', 'aabc', 'babcb', 'bbb', 'abcaa', 'bbabc', 'bba', 'abcabc', 'aaa', 'aabcabc', 'bab', 'abcabca', 'bb', 'abcba', 'abcabcabc', 'a', 'ababc', 'abcabcb', 'aab', 'abcaabc', 'aa', 'aba', 'b', 'abcb', 'abb', 'baabc', 'babc', 'abcab', 'baa', 'ab', 'babcabc', 'ba', 'aaabc', 'abc', 'aabcb', 'abcbb', 'aabca', 'abcbabc', 'abca'}\n"
     ]
    }
   ],
   "source": [
    "%run formal_languages.ipynb"
   ]
  },
  {
   "cell_type": "markdown",
   "id": "f1392701-7178-4395-8fd2-3062487af4c3",
   "metadata": {},
   "source": [
    "**Finite automaton (FA)** is 5-tuple consisting of:\n",
    "- non-empty finite set of final states\n",
    "- finite state of input symbols ( input alphabet )\n",
    "- transition function\n",
    "- root state\n",
    "- set of final states"
   ]
  },
  {
   "cell_type": "code",
   "execution_count": 39,
   "id": "59f5a823-90a0-4edb-bf7a-275340c5af80",
   "metadata": {},
   "outputs": [],
   "source": [
    "class State:\n",
    "    def __init__( self, name: str ) -> None:\n",
    "        self.name = name\n",
    "    def __repr__( self ) -> str:\n",
    "        return self.name\n",
    "\n",
    "\n",
    "class FiniteAutomaton:\n",
    "    def __init__( self,\n",
    "                  states: set[ State ],\n",
    "                  alphabet: Alphabet,\n",
    "                  transition: dict[ tuple[ State, Symbol ], State ],\n",
    "                  final: set[ State ],\n",
    "                  root: State ) -> None:\n",
    "        self.states = states\n",
    "        self.alphabet = alphabet\n",
    "        self.transition = transition\n",
    "        self.final = final\n",
    "        self.root = root\n",
    "    \n",
    "    def transition_table( self ) -> None:\n",
    "        \n",
    "        print( 8 * \" \", end=\"\" )\n",
    "        for char in self.alphabet:\n",
    "            print( f\" {char} \", end=\"\" )\n",
    "        \n",
    "        print()\n",
    "        \n",
    "        for state in self.states:\n",
    "            \n",
    "            if state == self.root and state in self.final:\n",
    "                print( \"<->\", end=\"\" )\n",
    "            elif state in self.final:\n",
    "                print( \"<- \", end=\"\" )\n",
    "            elif state == self.root:\n",
    "                print( \"-> \", end=\"\" )\n",
    "            else:\n",
    "                print( 3 * \" \", end=\"\" )\n",
    "            \n",
    "            print( f\" {state} \", end=\"\" )\n",
    "\n",
    "            for char in self.alphabet:\n",
    "                to_print = \" -- \" if ( state, char ) not in self.transition else f\" {self.transition[ ( state, char ) ]} \"\n",
    "                print( to_print, end=\"\" )\n",
    "            \n",
    "            print()\n"
   ]
  },
  {
   "cell_type": "markdown",
   "id": "87e6dd41-511e-45f5-8f05-5fc788389360",
   "metadata": {},
   "source": [
    "Language is so called **regular** if and only if it is accepted by **FA**"
   ]
  },
  {
   "cell_type": "code",
   "execution_count": 40,
   "id": "21062e06-ce6e-44b5-9b7c-0bbd9996dcf2",
   "metadata": {},
   "outputs": [
    {
     "name": "stdout",
     "output_type": "stream",
     "text": [
      "         b  a \n",
      "->  q1  q1  q2 \n",
      "<-  q2  --  q2 \n",
      "    q3  q3  q4 \n",
      "    q4  --  -- \n"
     ]
    }
   ],
   "source": [
    "def statify( name: str ) -> State:\n",
    "    return State( name )\n",
    "\n",
    "states = [ statify( s ) for s in [ \"q1\", \"q2\", \"q3\", \"q4\" ] ]\n",
    "final = { states[ 1 ] }\n",
    "alphabet = { \"a\", \"b\" }\n",
    "transition = { ( states[ 0 ], \"a\" ) : states[ 1 ],\n",
    "               ( states[ 0 ], \"b\" ) : states[ 0 ],\n",
    "               ( states[ 1 ], \"a\" ) : states[ 1 ],\n",
    "               ( states[ 2 ], \"b\" ) : states[ 2 ],\n",
    "               ( states[ 2 ], \"a\" ) : states[ 3 ]\n",
    "             }\n",
    "root = states[ 0 ]\n",
    "fa = FiniteAutomaton( states, alphabet, transition, final, root )\n",
    "fa.transition_table()"
   ]
  },
  {
   "cell_type": "code",
   "execution_count": null,
   "id": "d0a85241-c5d3-481c-bd0b-e55e7dc5a18f",
   "metadata": {},
   "outputs": [],
   "source": []
  }
 ],
 "metadata": {
  "kernelspec": {
   "display_name": "Python 3 (ipykernel)",
   "language": "python",
   "name": "python3"
  },
  "language_info": {
   "codemirror_mode": {
    "name": "ipython",
    "version": 3
   },
   "file_extension": ".py",
   "mimetype": "text/x-python",
   "name": "python",
   "nbconvert_exporter": "python",
   "pygments_lexer": "ipython3",
   "version": "3.9.6"
  }
 },
 "nbformat": 4,
 "nbformat_minor": 5
}
